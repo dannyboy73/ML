{
 "cells": [
  {
   "cell_type": "markdown",
   "id": "b478342c",
   "metadata": {},
   "source": [
    "# MNIST classification"
   ]
  },
  {
   "cell_type": "markdown",
   "id": "db718e2e",
   "metadata": {},
   "source": [
    "## In this project, we use binary and multi-label classification on the MNIST dataset to predict the input images. MNIST is commonly known as the \"hello world\" of ML."
   ]
  },
  {
   "cell_type": "markdown",
   "id": "f1dc2747",
   "metadata": {},
   "source": [
    "### Downloading the dataset"
   ]
  },
  {
   "cell_type": "code",
   "execution_count": 1,
   "id": "a4ab1a74",
   "metadata": {},
   "outputs": [
    {
     "data": {
      "text/plain": [
       "dict_keys(['data', 'target', 'frame', 'categories', 'feature_names', 'target_names', 'DESCR', 'details', 'url'])"
      ]
     },
     "execution_count": 1,
     "metadata": {},
     "output_type": "execute_result"
    }
   ],
   "source": [
    "from sklearn.datasets import fetch_openml\n",
    "mnist = fetch_openml('mnist_784', version=1, as_frame=False)  # to return a numpy array and not a data frame\n",
    "mnist.keys()"
   ]
  },
  {
   "cell_type": "markdown",
   "id": "aa22ee14",
   "metadata": {},
   "source": [
    "### Description of the dataset"
   ]
  },
  {
   "cell_type": "code",
   "execution_count": 2,
   "id": "adaf97e9",
   "metadata": {},
   "outputs": [
    {
     "data": {
      "text/plain": [
       "\"The MNIST database of handwritten digits with 784 features. It can be split in a training set of the first 60,000 examples, and a test set of 10,000 examples  \\n\\nIt is a subset of a larger set available from NIST. The digits have been size-normalized and centered in a fixed-size image. It is a good database for people who want to try learning techniques and pattern recognition methods on real-world data while spending minimal efforts on preprocessing and formatting. The original black and white (bilevel) images from NIST were size normalized to fit in a 20x20 pixel box while preserving their aspect ratio. The resulting images contain grey levels as a result of the anti-aliasing technique used by the normalization algorithm. the images were centered in a 28x28 image by computing the center of mass of the pixels, and translating the image so as to position this point at the center of the 28x28 field.  \\n\\nWith some classification methods (particularly template-based methods, such as SVM and K-nearest neighbors), the error rate improves when the digits are centered by bounding box rather than center of mass. If you do this kind of pre-processing, you should report it in your publications. The MNIST database was constructed from NIST's NIST originally designated SD-3 as their training set and SD-1 as their test set. However, SD-3 is much cleaner and easier to recognize than SD-1. The reason for this can be found on the fact that SD-3 was collected among Census Bureau employees, while SD-1 was collected among high-school students. Drawing sensible conclusions from learning experiments requires that the result be independent of the choice of training set and test among the complete set of samples. Therefore it was necessary to build a new database by mixing NIST's datasets.  \\n\\nThe MNIST training set is composed of 30,000 patterns from SD-3 and 30,000 patterns from SD-1. Our test set was composed of 5,000 patterns from SD-3 and 5,000 patterns from SD-1. The 60,000 pattern training set contained examples from approximately 250 writers. We made sure that the sets of writers of the training set and test set were disjoint. SD-1 contains 58,527 digit images written by 500 different writers. In contrast to SD-3, where blocks of data from each writer appeared in sequence, the data in SD-1 is scrambled. Writer identities for SD-1 is available and we used this information to unscramble the writers. We then split SD-1 in two: characters written by the first 250 writers went into our new training set. The remaining 250 writers were placed in our test set. Thus we had two sets with nearly 30,000 examples each. The new training set was completed with enough examples from SD-3, starting at pattern # 0, to make a full set of 60,000 training patterns. Similarly, the new test set was completed with SD-3 examples starting at pattern # 35,000 to make a full set with 60,000 test patterns. Only a subset of 10,000 test images (5,000 from SD-1 and 5,000 from SD-3) is available on this site. The full 60,000 sample training set is available.\\n\\nDownloaded from openml.org.\""
      ]
     },
     "execution_count": 2,
     "metadata": {},
     "output_type": "execute_result"
    }
   ],
   "source": [
    "mnist[\"DESCR\"]"
   ]
  },
  {
   "cell_type": "markdown",
   "id": "1d0e4a48",
   "metadata": {},
   "source": [
    "### Taking a look at the data and target features"
   ]
  },
  {
   "cell_type": "code",
   "execution_count": 3,
   "id": "90e1ccfb",
   "metadata": {},
   "outputs": [
    {
     "name": "stdout",
     "output_type": "stream",
     "text": [
      "(70000, 784)\n",
      "(70000,)\n"
     ]
    }
   ],
   "source": [
    "X, y = mnist[\"data\"], mnist[\"target\"]\n",
    "print(X.shape)\n",
    "print(y.shape)"
   ]
  },
  {
   "cell_type": "markdown",
   "id": "3e053d20",
   "metadata": {},
   "source": [
    "(70000,) is equivalent to (70000, 1) <br>\n",
    "There are 70000 images, and each image has 784 features. Each image is 28 x 28 pixels, and each feature represents one pixel's intensity 0 (white) to 255 (black)"
   ]
  },
  {
   "cell_type": "markdown",
   "id": "4a8e1d76",
   "metadata": {},
   "source": [
    "### Visualizing a random number from the dataset"
   ]
  },
  {
   "cell_type": "code",
   "execution_count": 4,
   "id": "d66abda8",
   "metadata": {},
   "outputs": [
    {
     "data": {
      "image/png": "[encoded data removed]",
      "text/plain": [
       "<Figure size 432x288 with 1 Axes>"
      ]
     },
     "metadata": {
      "needs_background": "light"
     },
     "output_type": "display_data"
    }
   ],
   "source": [
    "import matplotlib as mpl\n",
    "import matplotlib.pyplot as plt\n",
    "\n",
    "some_digit = X[0]\n",
    "some_digit_image = some_digit.reshape(28, 28)\n",
    "\n",
    "plt.imshow(some_digit_image, cmap=\"binary\")\n",
    "plt.axis(\"off\")\n",
    "plt.show()"
   ]
  },
  {
   "cell_type": "code",
   "execution_count": 5,
   "id": "8eb90a23",
   "metadata": {},
   "outputs": [
    {
     "data": {
      "text/plain": [
       "'5'"
      ]
     },
     "execution_count": 5,
     "metadata": {},
     "output_type": "execute_result"
    }
   ],
   "source": [
    "y[0]"
   ]
  },
  {
   "cell_type": "markdown",
   "id": "d023dc91",
   "metadata": {},
   "source": [
    "The above image represents the number 5 and this is confirmed by its corresponding label. However, note that y[0] is yielding a string object. We'll have to cast y to an integer object"
   ]
  },
  {
   "cell_type": "code",
   "execution_count": 6,
   "id": "551a8da4",
   "metadata": {},
   "outputs": [],
   "source": [
    "import numpy as np\n",
    "\n",
    "y = y.astype(np.uint8)"
   ]
  },
  {
   "cell_type": "markdown",
   "id": "390b3f65",
   "metadata": {},
   "source": [
    "### Splitting the dataset into train and test before we take a closer peek at the data"
   ]
  },
  {
   "cell_type": "code",
   "execution_count": 7,
   "id": "92a53151",
   "metadata": {},
   "outputs": [],
   "source": [
    "X_train, X_test, y_train, y_test = X[:60000], X[60000:], y[:60000], y[60000:]"
   ]
  },
  {
   "cell_type": "markdown",
   "id": "e466c1c1",
   "metadata": {},
   "source": [
    "The dataet is already shuffled for us. This gurantees that all cross-validation folds will be similar."
   ]
  },
  {
   "cell_type": "markdown",
   "id": "677cb63d",
   "metadata": {},
   "source": [
    "## Training a binary classifier"
   ]
  },
  {
   "cell_type": "code",
   "execution_count": 8,
   "id": "623dd5f9",
   "metadata": {},
   "outputs": [],
   "source": [
    "y_train_5 = (y_train == 5) # true for all 5's, false for other digits\n",
    "y_test_5 = (y_test == 5)"
   ]
  },
  {
   "cell_type": "markdown",
   "id": "8fb19a1c",
   "metadata": {},
   "source": [
    "### Training the Stochastic Gradient Descent Classifier"
   ]
  },
  {
   "cell_type": "code",
   "execution_count": 9,
   "id": "adc778f7",
   "metadata": {},
   "outputs": [
    {
     "data": {
      "text/plain": [
       "SGDClassifier(random_state=42)"
      ]
     },
     "execution_count": 9,
     "metadata": {},
     "output_type": "execute_result"
    }
   ],
   "source": [
    "from sklearn.linear_model import SGDClassifier\n",
    "\n",
    "sgd_clf = SGDClassifier(random_state=42)\n",
    "sgd_clf.fit(X_train, y_train_5)"
   ]
  },
  {
   "cell_type": "code",
   "execution_count": 10,
   "id": "7b7a699f",
   "metadata": {},
   "outputs": [
    {
     "data": {
      "text/plain": [
       "array([ True])"
      ]
     },
     "execution_count": 10,
     "metadata": {},
     "output_type": "execute_result"
    }
   ],
   "source": [
    "sgd_clf.predict([some_digit])"
   ]
  },
  {
   "cell_type": "markdown",
   "id": "1588f129",
   "metadata": {},
   "source": [
    "The classifier recognizes our initial example image as 5. Now let's evaluate the model's performance"
   ]
  },
  {
   "cell_type": "markdown",
   "id": "4daa5ca1",
   "metadata": {},
   "source": [
    "### Performance measures"
   ]
  },
  {
   "cell_type": "markdown",
   "id": "0abfa6d0",
   "metadata": {},
   "source": [
    "Using cross_val_score() to evaluate our SGDClassifier model using K-fold cross validation"
   ]
  },
  {
   "cell_type": "code",
   "execution_count": 11,
   "id": "583ad724",
   "metadata": {},
   "outputs": [
    {
     "data": {
      "text/plain": [
       "array([0.95035, 0.96035, 0.9604 ])"
      ]
     },
     "execution_count": 11,
     "metadata": {},
     "output_type": "execute_result"
    }
   ],
   "source": [
    "from sklearn.model_selection import cross_val_score\n",
    "\n",
    "cross_val_score(sgd_clf, X_train, y_train_5, cv=3, scoring=\"accuracy\")"
   ]
  },
  {
   "cell_type": "markdown",
   "id": "463d9cef",
   "metadata": {},
   "source": [
    "Using a dumb classifier that just classifies every single image in the \"not-5\" class"
   ]
  },
  {
   "cell_type": "code",
   "execution_count": 12,
   "id": "50932588",
   "metadata": {},
   "outputs": [
    {
     "data": {
      "text/plain": [
       "array([0.91125, 0.90855, 0.90915])"
      ]
     },
     "execution_count": 12,
     "metadata": {},
     "output_type": "execute_result"
    }
   ],
   "source": [
    "from sklearn.base import BaseEstimator\n",
    "\n",
    "class Never5Classifier(BaseEstimator):\n",
    "    def fit(self, X, y=None):\n",
    "        pass\n",
    "    def predict(self, X):\n",
    "        return np.zeros((len(X), 1), dtype=bool)\n",
    "    \n",
    "never_5_clf = Never5Classifier()\n",
    "cross_val_score(never_5_clf, X_train, y_train_5, cv=3, scoring=\"accuracy\")"
   ]
  },
  {
   "cell_type": "markdown",
   "id": "426d0aae",
   "metadata": {},
   "source": [
    "This is because about 10% of the images in the dataset are 5. So if you guess an image is not 5, you'll be right 90% of the time :) <br>\n",
    "This demonstrates why accuracy is generally not the preferred performance measure for classifiers."
   ]
  },
  {
   "cell_type": "markdown",
   "id": "21e29c5b",
   "metadata": {},
   "source": [
    "## Confusion matrix"
   ]
  },
  {
   "cell_type": "markdown",
   "id": "a729342c",
   "metadata": {},
   "source": [
    "Confusion matrix is a much better way to evaluate the performance of a classifier. <br>\n",
    "First let's find the predictions for the train set"
   ]
  },
  {
   "cell_type": "code",
   "execution_count": 13,
   "id": "a6cce596",
   "metadata": {},
   "outputs": [],
   "source": [
    "from sklearn.model_selection import cross_val_predict\n",
    "\n",
    "y_train_pred = cross_val_predict(sgd_clf, X_train, y_train_5, cv=3)"
   ]
  },
  {
   "cell_type": "markdown",
   "id": "802ddef5",
   "metadata": {},
   "source": [
    "Now let's find the confusion matrix"
   ]
  },
  {
   "cell_type": "code",
   "execution_count": 14,
   "id": "064a1430",
   "metadata": {},
   "outputs": [
    {
     "data": {
      "text/plain": [
       "array([[53892,   687],\n",
       "       [ 1891,  3530]])"
      ]
     },
     "execution_count": 14,
     "metadata": {},
     "output_type": "execute_result"
    }
   ],
   "source": [
    "from sklearn.metrics import confusion_matrix\n",
    "\n",
    "confusion_matrix(y_train_5, y_train_pred)"
   ]
  },
  {
   "cell_type": "markdown",
   "id": "c5481a21",
   "metadata": {},
   "source": [
    "## Precision and recall"
   ]
  },
  {
   "cell_type": "markdown",
   "id": "5475d3ea",
   "metadata": {},
   "source": [
    "Some metrics w.r.t confusion matrix are: Precision, TPR/Recall. <br>\n",
    "Precision = TP / (TP + FP) <br>\n",
    "Recall = TP / (TP + FN)"
   ]
  },
  {
   "cell_type": "code",
   "execution_count": 15,
   "id": "faa2dbf6",
   "metadata": {},
   "outputs": [
    {
     "name": "stdout",
     "output_type": "stream",
     "text": [
      "0.8370879772350012\n",
      "0.6511713705958311\n"
     ]
    }
   ],
   "source": [
    "from sklearn.metrics import precision_score, recall_score\n",
    "\n",
    "print(precision_score(y_train_5, y_train_pred)) # 3530 / (3530 + 687)\n",
    "print(recall_score(y_train_5, y_train_pred)) # 3530 / (3530 + 1891)"
   ]
  },
  {
   "cell_type": "markdown",
   "id": "2dba847e",
   "metadata": {},
   "source": [
    "From the precision, we can conclude that when the prediction is a 5, it's truly a 5. However, from recall, we can conclude it only detects 65% of the 5's. <br>\n",
    "We can combine both the precision and recall metric into a single metric, the F1 score. It's the harmonic mean of both precision and recall."
   ]
  },
  {
   "cell_type": "code",
   "execution_count": 16,
   "id": "60642408",
   "metadata": {},
   "outputs": [
    {
     "data": {
      "text/plain": [
       "0.7325171197343846"
      ]
     },
     "execution_count": 16,
     "metadata": {},
     "output_type": "execute_result"
    }
   ],
   "source": [
    "from sklearn.metrics import f1_score\n",
    "\n",
    "f1_score(y_train_5, y_train_pred)"
   ]
  },
  {
   "cell_type": "markdown",
   "id": "cbdfaa99",
   "metadata": {},
   "source": [
    "### Precision/recall trade-off"
   ]
  },
  {
   "cell_type": "markdown",
   "id": "642db19c",
   "metadata": {},
   "source": [
    "The threshold can be set to adjust precision and recall accordingly. To find out which threshold to use we need to plot the precision recall curve."
   ]
  },
  {
   "cell_type": "code",
   "execution_count": 17,
   "id": "7665ecce",
   "metadata": {},
   "outputs": [],
   "source": [
    "y_scores = cross_val_predict(sgd_clf, X_train, y_train_5, cv=3,\n",
    "                            method=\"decision_function\")"
   ]
  },
  {
   "cell_type": "code",
   "execution_count": 18,
   "id": "1080c266",
   "metadata": {},
   "outputs": [
    {
     "data": {
      "image/png": "[encoded data removed]",
      "text/plain": [
       "<Figure size 432x288 with 1 Axes>"
      ]
     },
     "metadata": {
      "needs_background": "light"
     },
     "output_type": "display_data"
    }
   ],
   "source": [
    "from sklearn.metrics import precision_recall_curve\n",
    "\n",
    "precisions, recalls, thresholds = precision_recall_curve(y_train_5, y_scores)\n",
    "\n",
    "def plot_precision_recall_vs_threshold(precisions, recall, threshold):\n",
    "    plt.plot(thresholds, precisions[:-1], \"b--\", label=\"Precision\")\n",
    "    plt.plot(thresholds, recalls[:-1], \"g-\", label=\"Recall\")\n",
    "    plt.xlabel('Threshold')\n",
    "    plt.legend()\n",
    "    plt.grid()\n",
    "    \n",
    "plot_precision_recall_vs_threshold(precisions, recalls, thresholds)\n",
    "plt.show()"
   ]
  },
  {
   "cell_type": "markdown",
   "id": "69fd65e2",
   "metadata": {},
   "source": [
    "We need to obtain 90% precision for our classifier. To do that, take a look at the plot and find the required threshold to obtain 90% precision. In our case we need to set the threshold at 4000. To be more precise let's search for the threshold using np.argmax()"
   ]
  },
  {
   "cell_type": "code",
   "execution_count": 19,
   "id": "4113fea5",
   "metadata": {},
   "outputs": [
    {
     "data": {
      "text/plain": [
       "3370.0194991439557"
      ]
     },
     "execution_count": 19,
     "metadata": {},
     "output_type": "execute_result"
    }
   ],
   "source": [
    "threshold_90_precision = thresholds[np.argmax(precisions >= 0.90)]\n",
    "threshold_90_precision"
   ]
  },
  {
   "cell_type": "markdown",
   "id": "88ec777a",
   "metadata": {},
   "source": [
    "Now to make the newer predictions with our new threshold, we can just run the following code..."
   ]
  },
  {
   "cell_type": "code",
   "execution_count": 20,
   "id": "5d8abb69",
   "metadata": {},
   "outputs": [],
   "source": [
    "y_train_pred_90 = (y_scores >= threshold_90_precision)"
   ]
  },
  {
   "cell_type": "markdown",
   "id": "af808a26",
   "metadata": {},
   "source": [
    "Let's find the new precision and recall scores"
   ]
  },
  {
   "cell_type": "code",
   "execution_count": 21,
   "id": "98e273cb",
   "metadata": {},
   "outputs": [
    {
     "name": "stdout",
     "output_type": "stream",
     "text": [
      "0.9000345901072293\n",
      "0.4799852425751706\n"
     ]
    }
   ],
   "source": [
    "print(precision_score(y_train_5, y_train_pred_90))\n",
    "print(recall_score(y_train_5, y_train_pred_90))"
   ]
  },
  {
   "cell_type": "markdown",
   "id": "d4ef81f4",
   "metadata": {},
   "source": [
    "We've obtained a 90% precision classifier. So to create a classifier at a certain precision, just set the threshold. However, precision is not just enough. We need to increase our recall as well. "
   ]
  },
  {
   "cell_type": "markdown",
   "id": "75ce756a",
   "metadata": {},
   "source": [
    "## ROC Curve"
   ]
  },
  {
   "cell_type": "markdown",
   "id": "78b49528",
   "metadata": {},
   "source": [
    "The receiving operating characteristic (ROC) curve is another common tool used with binary classifiers. It's very similar to the precision/recall curve, but instead of plotting precision versus recall, the ROC curve plots the true positive rate (recall) against the false positive rate (FPR). <br>\n",
    "FPR: Ratio of negative instances that are incorrectly classified as positive. It's equal to 1 - TNR (True Negative Rate). TNR is also called as specificity."
   ]
  },
  {
   "cell_type": "code",
   "execution_count": 22,
   "id": "b9fcf544",
   "metadata": {},
   "outputs": [
    {
     "data": {
      "image/png": "[encoded data removed]",
      "text/plain": [
       "<Figure size 432x288 with 1 Axes>"
      ]
     },
     "metadata": {
      "needs_background": "light"
     },
     "output_type": "display_data"
    }
   ],
   "source": [
    "from sklearn.metrics import roc_curve\n",
    "\n",
    "fpr, tpr, thresholds = roc_curve(y_train_5, y_scores)\n",
    "\n",
    "def plot_roc_curve(fpr, tpr, label=None):\n",
    "    plt.plot(fpr, tpr, linewidth=2, label=label)\n",
    "    plt.plot([0, 1], [0, 1], 'k--') # dashed diagonal\n",
    "    plt.grid()\n",
    "    plt.xlabel('False positive rate')\n",
    "    plt.ylabel('True postive rate')\n",
    "    \n",
    "plot_roc_curve(fpr, tpr)\n",
    "plt.show()"
   ]
  },
  {
   "cell_type": "markdown",
   "id": "2e9df3b0",
   "metadata": {},
   "source": [
    "One way to compare classifiers is to measure the area under the curve (AUC). A perfect classifier will have a ROC AUC score equal to 1, whereas a purely random classifier will have ROC AUC equal to 0.5."
   ]
  },
  {
   "cell_type": "code",
   "execution_count": 23,
   "id": "bc1c27f0",
   "metadata": {},
   "outputs": [
    {
     "data": {
      "text/plain": [
       "0.9604938554008616"
      ]
     },
     "execution_count": 23,
     "metadata": {},
     "output_type": "execute_result"
    }
   ],
   "source": [
    "from sklearn.metrics import roc_auc_score\n",
    "\n",
    "roc_auc_score(y_train_5, y_scores)"
   ]
  },
  {
   "cell_type": "markdown",
   "id": "284aaa06",
   "metadata": {},
   "source": [
    "Choose the PR curve when you care more about the precision (false positives) more . When you need good recall (false negative) use the ROC curve."
   ]
  },
  {
   "cell_type": "markdown",
   "id": "6f8ad8d2",
   "metadata": {},
   "source": [
    "### Training a random forest classifier"
   ]
  },
  {
   "cell_type": "markdown",
   "id": "fc578239",
   "metadata": {},
   "source": [
    "The random forest classifier does not have a decision_function() method. Instead, it uses predict_proba() method. The predict_proba() method returns an array containing a row per instance and a column per class, each containing the probability that the given instance belongs to the given class. "
   ]
  },
  {
   "cell_type": "code",
   "execution_count": 24,
   "id": "1b567ef1",
   "metadata": {},
   "outputs": [],
   "source": [
    "from sklearn.ensemble import RandomForestClassifier\n",
    "\n",
    "forest_clf = RandomForestClassifier(random_state=42)\n",
    "y_probas_forest = cross_val_predict(forest_clf, X_train, y_train_5, cv=3,\n",
    "                                   method=\"predict_proba\")"
   ]
  },
  {
   "cell_type": "code",
   "execution_count": 25,
   "id": "8772acff",
   "metadata": {},
   "outputs": [],
   "source": [
    "y_scores_forest = y_probas_forest[:, 1] # score = prob. of positive class\n",
    "fpr_forest, tpr_forest, thresholds_forest = roc_curve(y_train_5, y_scores_forest)"
   ]
  },
  {
   "cell_type": "markdown",
   "id": "ddf60026",
   "metadata": {},
   "source": [
    "Plotting the ROC curve for both the classfiers, SGD and Random Forest"
   ]
  },
  {
   "cell_type": "code",
   "execution_count": 26,
   "id": "71f87f38",
   "metadata": {},
   "outputs": [
    {
     "data": {
      "image/png": "[encoded data removed]",
      "text/plain": [
       "<Figure size 432x288 with 1 Axes>"
      ]
     },
     "metadata": {
      "needs_background": "light"
     },
     "output_type": "display_data"
    }
   ],
   "source": [
    "plt.plot(fpr, tpr, 'b:', label=\"SGD\")\n",
    "plot_roc_curve(fpr_forest, tpr_forest, label=\"Random Forest\")\n",
    "plt.legend(loc=\"lower right\")\n",
    "plt.show()"
   ]
  },
  {
   "cell_type": "markdown",
   "id": "43fecf24",
   "metadata": {},
   "source": [
    "The random forest classifier's ROC curve looks much better compared to the SGD's curve. Let's take a look at the ROC AUC score as well."
   ]
  },
  {
   "cell_type": "code",
   "execution_count": 27,
   "id": "f41a1c95",
   "metadata": {},
   "outputs": [
    {
     "data": {
      "text/plain": [
       "0.9983436731328145"
      ]
     },
     "execution_count": 27,
     "metadata": {},
     "output_type": "execute_result"
    }
   ],
   "source": [
    "roc_auc_score(y_train_5, y_scores_forest)"
   ]
  },
  {
   "cell_type": "markdown",
   "id": "2031c2c0",
   "metadata": {},
   "source": [
    "Precision and recall scores too..."
   ]
  },
  {
   "cell_type": "code",
   "execution_count": 28,
   "id": "24b66750",
   "metadata": {},
   "outputs": [
    {
     "name": "stdout",
     "output_type": "stream",
     "text": [
      "0.9897468089558485\n",
      "0.8725327430363402\n"
     ]
    }
   ],
   "source": [
    "y_scores_forest = (y_scores_forest >= 0.5)\n",
    "print(precision_score(y_train_5, y_scores_forest))\n",
    "print(recall_score(y_train_5, y_scores_forest))"
   ]
  },
  {
   "cell_type": "markdown",
   "id": "a0e3315e",
   "metadata": {},
   "source": [
    "Both, precision and recall scores are high. Therefore, we can say that the RandomForestClassifier is great in binary classification of the MNIST dataset."
   ]
  },
  {
   "cell_type": "markdown",
   "id": "b0e894a3",
   "metadata": {},
   "source": [
    "## Multiclass classification"
   ]
  },
  {
   "cell_type": "markdown",
   "id": "7afec929",
   "metadata": {},
   "source": [
    "Training a SVM (Support Vector Machine) to classify the dataset for 10 classes (0 to 9)."
   ]
  },
  {
   "cell_type": "code",
   "execution_count": 29,
   "id": "595a12fd",
   "metadata": {},
   "outputs": [
    {
     "data": {
      "text/plain": [
       "array([5], dtype=uint8)"
      ]
     },
     "execution_count": 29,
     "metadata": {},
     "output_type": "execute_result"
    }
   ],
   "source": [
    "from sklearn.svm import SVC\n",
    "svm_clf = SVC()\n",
    "svm_clf.fit(X_train, y_train)\n",
    "svm_clf.predict([some_digit])"
   ]
  },
  {
   "cell_type": "code",
   "execution_count": 30,
   "id": "29b13e7b",
   "metadata": {},
   "outputs": [
    {
     "data": {
      "text/plain": [
       "array([[ 1.72501977,  2.72809088,  7.2510018 ,  8.3076379 , -0.31087254,\n",
       "         9.3132482 ,  1.70975103,  2.76765202,  6.23049537,  4.84771048]])"
      ]
     },
     "execution_count": 30,
     "metadata": {},
     "output_type": "execute_result"
    }
   ],
   "source": [
    "some_digit_scores = svm_clf.decision_function([some_digit])\n",
    "some_digit_scores"
   ]
  },
  {
   "cell_type": "markdown",
   "id": "09cc7bc6",
   "metadata": {},
   "source": [
    "Let's train a SGD classifier now on the MNSIT dataset"
   ]
  },
  {
   "cell_type": "code",
   "execution_count": 31,
   "id": "35d5966d",
   "metadata": {},
   "outputs": [
    {
     "data": {
      "text/plain": [
       "array([3], dtype=uint8)"
      ]
     },
     "execution_count": 31,
     "metadata": {},
     "output_type": "execute_result"
    }
   ],
   "source": [
    "sgd_clf.fit(X_train, y_train)\n",
    "sgd_clf.predict([some_digit])"
   ]
  },
  {
   "cell_type": "markdown",
   "id": "32b86a03",
   "metadata": {},
   "source": [
    "Using cross-validation to evaluate the SGDclassifier's accuracy"
   ]
  },
  {
   "cell_type": "code",
   "execution_count": 32,
   "id": "246f65e4",
   "metadata": {},
   "outputs": [
    {
     "data": {
      "text/plain": [
       "array([0.87365, 0.85835, 0.8689 ])"
      ]
     },
     "execution_count": 32,
     "metadata": {},
     "output_type": "execute_result"
    }
   ],
   "source": [
    "cross_val_score(sgd_clf, X_train, y_train, cv=3, scoring=\"accuracy\")"
   ]
  },
  {
   "cell_type": "markdown",
   "id": "3c655587",
   "metadata": {},
   "source": [
    "By scaling the data, we can improve the classifier's accuracy."
   ]
  },
  {
   "cell_type": "code",
   "execution_count": 33,
   "id": "ccea2b0d",
   "metadata": {},
   "outputs": [],
   "source": [
    "from sklearn.preprocessing import StandardScaler\n",
    "scaler = StandardScaler()\n",
    "X_train_scaled = scaler.fit_transform(X_train.astype(np.float64))"
   ]
  },
  {
   "cell_type": "code",
   "execution_count": 34,
   "id": "54506d96",
   "metadata": {},
   "outputs": [
    {
     "data": {
      "text/plain": [
       "array([0.8983, 0.891 , 0.9018])"
      ]
     },
     "execution_count": 34,
     "metadata": {},
     "output_type": "execute_result"
    }
   ],
   "source": [
    "cross_val_score(sgd_clf, X_train_scaled, y_train, cv=3, scoring=\"accuracy\")"
   ]
  },
  {
   "cell_type": "markdown",
   "id": "c8265a1b",
   "metadata": {},
   "source": [
    "Able to abtain almost 89% accuracy on an average across the three folds"
   ]
  },
  {
   "cell_type": "markdown",
   "id": "ec2b21ee",
   "metadata": {},
   "source": [
    "## Error analysis"
   ]
  },
  {
   "cell_type": "markdown",
   "id": "3fb1f29e",
   "metadata": {},
   "source": [
    "Let's find the confusion matrix for the predicted results of the SGDClassifier."
   ]
  },
  {
   "cell_type": "code",
   "execution_count": 35,
   "id": "33e756c5",
   "metadata": {},
   "outputs": [
    {
     "data": {
      "text/plain": [
       "array([[5577,    0,   22,    5,    8,   43,   36,    6,  225,    1],\n",
       "       [   0, 6400,   37,   24,    4,   44,    4,    7,  212,   10],\n",
       "       [  27,   27, 5220,   92,   73,   27,   67,   36,  378,   11],\n",
       "       [  22,   17,  117, 5227,    2,  203,   27,   40,  403,   73],\n",
       "       [  12,   14,   41,    9, 5182,   12,   34,   27,  347,  164],\n",
       "       [  27,   15,   30,  168,   53, 4444,   75,   14,  535,   60],\n",
       "       [  30,   15,   42,    3,   44,   97, 5552,    3,  131,    1],\n",
       "       [  21,   10,   51,   30,   49,   12,    3, 5684,  195,  210],\n",
       "       [  17,   63,   48,   86,    3,  126,   25,   10, 5429,   44],\n",
       "       [  25,   18,   30,   64,  118,   36,    1,  179,  371, 5107]])"
      ]
     },
     "execution_count": 35,
     "metadata": {},
     "output_type": "execute_result"
    }
   ],
   "source": [
    "y_train_pred = cross_val_predict(sgd_clf, X_train_scaled, y_train, cv=3)\n",
    "conf_mx = confusion_matrix(y_train, y_train_pred)\n",
    "conf_mx"
   ]
  },
  {
   "cell_type": "markdown",
   "id": "3d276509",
   "metadata": {},
   "source": [
    "Taking a look at the image representation of the confusion matrix"
   ]
  },
  {
   "cell_type": "code",
   "execution_count": 36,
   "id": "d6e6d164",
   "metadata": {},
   "outputs": [
    {
     "data": {
      "image/png": "[encoded data removed]",
      "text/plain": [
       "<Figure size 288x288 with 1 Axes>"
      ]
     },
     "metadata": {
      "needs_background": "light"
     },
     "output_type": "display_data"
    }
   ],
   "source": [
    "plt.matshow(conf_mx, cmap=plt.cm.gray)\n",
    "plt.show()"
   ]
  },
  {
   "cell_type": "markdown",
   "id": "71b50c01",
   "metadata": {},
   "source": [
    "Since most images are on the main diagonal, it means that the classifier was able to classify correctly. But, the 5's look slightly darker than the other digits, which could mean that there are fewer images of 5's in the dataset or that the classifier didn't perform well for 5's. <br>\n",
    "Let's confirm this by dividing each value in the confusion matrix by the number of images in the corresponding class so that you can compare error rates instead of absolute number of errors."
   ]
  },
  {
   "cell_type": "code",
   "execution_count": 37,
   "id": "8bd334cc",
   "metadata": {},
   "outputs": [],
   "source": [
    "row_sums = conf_mx.sum(axis=1, keepdims=True)\n",
    "norm_conf_mx = conf_mx / row_sums"
   ]
  },
  {
   "cell_type": "markdown",
   "id": "e98adefd",
   "metadata": {},
   "source": [
    "Filling the diagonals with zero to keep only the errors, and plot the result:"
   ]
  },
  {
   "cell_type": "code",
   "execution_count": 38,
   "id": "60730eb3",
   "metadata": {},
   "outputs": [
    {
     "data": {
      "image/png": "[encoded data removed]",
      "text/plain": [
       "<Figure size 288x288 with 1 Axes>"
      ]
     },
     "metadata": {
      "needs_background": "light"
     },
     "output_type": "display_data"
    }
   ],
   "source": [
    "np.fill_diagonal(norm_conf_mx, 0)\n",
    "plt.matshow(norm_conf_mx, cmap=plt.cm.gray)\n",
    "plt.show()"
   ]
  },
  {
   "cell_type": "markdown",
   "id": "2342e43a",
   "metadata": {},
   "source": [
    "We can clearly see that the column (predicted) for class 8 is bright and almost white for the actual class 5. However for the row (actual) of class 8 it's dark. This indicates that many numbers get misclassified as 8's especially class 5."
   ]
  },
  {
   "cell_type": "markdown",
   "id": "cce40395",
   "metadata": {},
   "source": [
    "## Building a MNIST classifier with over 97% accuracy"
   ]
  },
  {
   "cell_type": "code",
   "execution_count": 39,
   "id": "a1d24dc7",
   "metadata": {},
   "outputs": [
    {
     "data": {
      "text/plain": [
       "array([0.9676 , 0.9671 , 0.96755])"
      ]
     },
     "execution_count": 39,
     "metadata": {},
     "output_type": "execute_result"
    }
   ],
   "source": [
    "from sklearn.neighbors import KNeighborsClassifier\n",
    "\n",
    "knn_clf = KNeighborsClassifier()\n",
    "\n",
    "cross_val_score(knn_clf, X_train, y_train, cv=3, scoring=\"accuracy\")"
   ]
  },
  {
   "cell_type": "markdown",
   "id": "becb4348",
   "metadata": {},
   "source": [
    "Let's use GridSearchCV to find the right set of 'weights' and 'n_neighbors' hyperparameter"
   ]
  },
  {
   "cell_type": "code",
   "execution_count": 40,
   "id": "8fb33a71",
   "metadata": {},
   "outputs": [
    {
     "data": {
      "text/plain": [
       "GridSearchCV(cv=3, estimator=KNeighborsClassifier(),\n",
       "             param_grid=[{'n_neighbors': [3, 4, 5, 6, 7],\n",
       "                          'weights': ['uniform', 'distance']}],\n",
       "             return_train_score=True, scoring='accuracy')"
      ]
     },
     "execution_count": 40,
     "metadata": {},
     "output_type": "execute_result"
    }
   ],
   "source": [
    "from sklearn.model_selection import GridSearchCV\n",
    "\n",
    "param_grid = [\n",
    "    {'weights': ['uniform', 'distance'], 'n_neighbors': [3, 4, 5, 6, 7]}\n",
    "]\n",
    "\n",
    "grid_search = GridSearchCV(knn_clf, param_grid, cv=3,\n",
    "                          scoring=\"accuracy\", \n",
    "                          return_train_score=True)\n",
    "\n",
    "grid_search.fit(X_train, y_train)"
   ]
  },
  {
   "cell_type": "code",
   "execution_count": 41,
   "id": "9648beeb",
   "metadata": {},
   "outputs": [
    {
     "data": {
      "text/plain": [
       "{'n_neighbors': 4, 'weights': 'distance'}"
      ]
     },
     "execution_count": 41,
     "metadata": {},
     "output_type": "execute_result"
    }
   ],
   "source": [
    "grid_search.best_params_"
   ]
  },
  {
   "cell_type": "code",
   "execution_count": 42,
   "id": "561a762e",
   "metadata": {},
   "outputs": [
    {
     "data": {
      "text/plain": [
       "KNeighborsClassifier(n_neighbors=4, weights='distance')"
      ]
     },
     "execution_count": 42,
     "metadata": {},
     "output_type": "execute_result"
    }
   ],
   "source": [
    "grid_search.best_estimator_"
   ]
  },
  {
   "cell_type": "code",
   "execution_count": 43,
   "id": "491795cf",
   "metadata": {},
   "outputs": [
    {
     "name": "stdout",
     "output_type": "stream",
     "text": [
      "0.9681833333333333 {'n_neighbors': 3, 'weights': 'uniform'}\n",
      "0.9693333333333333 {'n_neighbors': 3, 'weights': 'distance'}\n",
      "0.9666333333333333 {'n_neighbors': 4, 'weights': 'uniform'}\n",
      "0.9703500000000002 {'n_neighbors': 4, 'weights': 'distance'}\n",
      "0.9674166666666667 {'n_neighbors': 5, 'weights': 'uniform'}\n",
      "0.9686 {'n_neighbors': 5, 'weights': 'distance'}\n",
      "0.9655 {'n_neighbors': 6, 'weights': 'uniform'}\n",
      "0.9694833333333334 {'n_neighbors': 6, 'weights': 'distance'}\n",
      "0.9652 {'n_neighbors': 7, 'weights': 'uniform'}\n",
      "0.9666666666666667 {'n_neighbors': 7, 'weights': 'distance'}\n"
     ]
    }
   ],
   "source": [
    "cvres = grid_search.cv_results_\n",
    "for accuracy, params in zip(cvres[\"mean_test_score\"], cvres[\"params\"]):\n",
    "    print(accuracy, params)"
   ]
  },
  {
   "cell_type": "markdown",
   "id": "0c135b0f",
   "metadata": {},
   "source": [
    "When we pass the n_neighbors parameter as 4 and weights as distance we are able to obtain just over 97% accuracy."
   ]
  },
  {
   "cell_type": "markdown",
   "id": "f691b275",
   "metadata": {},
   "source": [
    "Now let's evaluate our top classifier on the test set"
   ]
  },
  {
   "cell_type": "code",
   "execution_count": 44,
   "id": "d1b7a119",
   "metadata": {},
   "outputs": [],
   "source": [
    "knn_clf_top = grid_search.best_estimator_"
   ]
  },
  {
   "cell_type": "code",
   "execution_count": 45,
   "id": "7ba62e16",
   "metadata": {},
   "outputs": [],
   "source": [
    "y_test_pred = knn_clf_top.predict(X_test)"
   ]
  },
  {
   "cell_type": "code",
   "execution_count": 46,
   "id": "376573c0",
   "metadata": {},
   "outputs": [
    {
     "data": {
      "text/plain": [
       "array([[ 973,    1,    1,    0,    0,    1,    3,    1,    0,    0],\n",
       "       [   0, 1132,    2,    0,    0,    0,    1,    0,    0,    0],\n",
       "       [  10,    5,  995,    2,    1,    0,    0,   16,    3,    0],\n",
       "       [   0,    1,    3,  974,    1,   14,    1,    7,    4,    5],\n",
       "       [   1,    5,    0,    0,  950,    0,    4,    3,    0,   19],\n",
       "       [   4,    0,    0,    9,    2,  862,    7,    1,    3,    4],\n",
       "       [   4,    2,    0,    0,    3,    3,  946,    0,    0,    0],\n",
       "       [   0,   17,    4,    0,    3,    0,    0,  994,    0,   10],\n",
       "       [   5,    2,    4,   14,    5,   11,    4,    4,  920,    5],\n",
       "       [   3,    4,    2,    7,    9,    4,    1,   10,    1,  968]])"
      ]
     },
     "execution_count": 46,
     "metadata": {},
     "output_type": "execute_result"
    }
   ],
   "source": [
    "conf_mx = confusion_matrix(y_test, y_test_pred)\n",
    "conf_mx"
   ]
  },
  {
   "cell_type": "code",
   "execution_count": 47,
   "id": "86020e8c",
   "metadata": {},
   "outputs": [
    {
     "data": {
      "image/png": "[encoded data removed]",
      "text/plain": [
       "<Figure size 288x288 with 1 Axes>"
      ]
     },
     "metadata": {
      "needs_background": "light"
     },
     "output_type": "display_data"
    }
   ],
   "source": [
    "plt.matshow(conf_mx, cmap=plt.cm.gray)\n",
    "plt.show()"
   ]
  },
  {
   "cell_type": "code",
   "execution_count": 48,
   "id": "37611212",
   "metadata": {},
   "outputs": [
    {
     "name": "stdout",
     "output_type": "stream",
     "text": [
      "Accuracy on the test set:  97.14 %\n"
     ]
    }
   ],
   "source": [
    "from sklearn.metrics import accuracy_score\n",
    "\n",
    "print('Accuracy on the test set: ', accuracy_score(y_test, y_test_pred)*100, '%')"
   ]
  },
  {
   "cell_type": "markdown",
   "id": "2c9a3576",
   "metadata": {},
   "source": [
    "## Data augmentation"
   ]
  },
  {
   "cell_type": "markdown",
   "id": "0aa0fe31",
   "metadata": {},
   "source": [
    "Let's shift the images in the training set by one pixel in all four directions by one pixel and add all the four augmented images to the training set."
   ]
  },
  {
   "cell_type": "code",
   "execution_count": 55,
   "id": "d4f09f08",
   "metadata": {},
   "outputs": [],
   "source": [
    "from scipy.ndimage.interpolation import shift\n",
    "\n",
    "def shift_image(image, dx, dy):\n",
    "    image = image.reshape((28, 28))\n",
    "    shifted_image = shift(image, [dy, dx], cval=0, mode=\"constant\")\n",
    "    return shifted_image.reshape([-1])"
   ]
  },
  {
   "cell_type": "code",
   "execution_count": 57,
   "id": "ca15cfe1",
   "metadata": {},
   "outputs": [
    {
     "data": {
      "image/png": "[encoded data removed]",
      "text/plain": [
       "<Figure size 864x216 with 3 Axes>"
      ]
     },
     "metadata": {
      "needs_background": "light"
     },
     "output_type": "display_data"
    }
   ],
   "source": [
    "image = X_train[1000]\n",
    "shifted_image_down = shift_image(image, 0, 5)\n",
    "shifted_image_left = shift_image(image, -5, 0)\n",
    "\n",
    "plt.figure(figsize=(12,3))\n",
    "plt.subplot(131)\n",
    "plt.title(\"Original\", fontsize=14)\n",
    "plt.imshow(image.reshape(28, 28), interpolation=\"nearest\", cmap=\"ocean\")\n",
    "plt.subplot(132)\n",
    "plt.title(\"Shifted down\", fontsize=14)\n",
    "plt.imshow(shifted_image_down.reshape(28, 28), interpolation=\"nearest\", cmap=\"ocean\")\n",
    "plt.subplot(133)\n",
    "plt.title(\"Shifted left\", fontsize=14)\n",
    "plt.imshow(shifted_image_left.reshape(28,28), interpolation=\"nearest\", cmap=\"ocean\")\n",
    "plt.show()"
   ]
  },
  {
   "cell_type": "code",
   "execution_count": 59,
   "id": "e6bd1c5b",
   "metadata": {},
   "outputs": [
    {
     "data": {
      "text/plain": [
       "KNeighborsClassifier(n_neighbors=4, weights='distance')"
      ]
     },
     "execution_count": 59,
     "metadata": {},
     "output_type": "execute_result"
    }
   ],
   "source": [
    "X_train_augmented = [image for image in X_train]\n",
    "y_train_augmented = [label for label in y_train]\n",
    "\n",
    "for dx, dy in ((1,0), (-1, 0), (0, 1), (0, -1)):  # shifting right, left, down and up\n",
    "    for image, label in zip(X_train, y_train):\n",
    "        X_train_augmented.append(shift_image(image, dx, dy))\n",
    "        y_train_augmented.append(label)\n",
    "        \n",
    "X_train_augmented = np.array(X_train_augmented)\n",
    "y_train_augmented = np.array(y_train_augmented)\n",
    "\n",
    "# shuffling the images along the index\n",
    "shuffle_idx = np.random.permutation(len(X_train_augmented))\n",
    "X_train_augmented = X_train_augmented[shuffle_idx]\n",
    "y_train_augmented = y_train_augmented[shuffle_idx]\n",
    "\n",
    "# training the KNN classifier with the best parameters obtined using GridSearchCV()\n",
    "knn_clf = KNeighborsClassifier(**grid_search.best_params_)\n",
    "knn_clf.fit(X_train_augmented, y_train_augmented)"
   ]
  },
  {
   "cell_type": "code",
   "execution_count": 60,
   "id": "be4cad9e",
   "metadata": {},
   "outputs": [
    {
     "data": {
      "text/plain": [
       "0.9763"
      ]
     },
     "execution_count": 60,
     "metadata": {},
     "output_type": "execute_result"
    }
   ],
   "source": [
    "y_pred = knn_clf.predict(X_test)\n",
    "accuracy_score(y_test, y_pred)"
   ]
  },
  {
   "cell_type": "markdown",
   "id": "69af4277",
   "metadata": {},
   "source": [
    "This proves that data augmentation can improve the accuracy."
   ]
  },
  {
   "cell_type": "code",
   "execution_count": null,
   "id": "b847f2a4",
   "metadata": {},
   "outputs": [],
   "source": []
  }
 ],
 "metadata": {
  "kernelspec": {
   "display_name": "Python 3",
   "language": "python",
   "name": "python3"
  },
  "language_info": {
   "codemirror_mode": {
    "name": "ipython",
    "version": 3
   },
   "file_extension": ".py",
   "mimetype": "text/x-python",
   "name": "python",
   "nbconvert_exporter": "python",
   "pygments_lexer": "ipython3",
   "version": "3.8.10"
  }
 },
 "nbformat": 4,
 "nbformat_minor": 5
}
